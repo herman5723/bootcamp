{
 "cells": [
  {
   "cell_type": "code",
   "execution_count": 1,
   "id": "af7f9086-ca6e-4a9f-a7fe-92808b082f62",
   "metadata": {},
   "outputs": [
    {
     "name": "stdout",
     "output_type": "stream",
     "text": [
      "the reverse String is:  dlroW olleH\n"
     ]
    }
   ],
   "source": [
    "string = \"Hello World\"\n",
    "\n",
    "reverse_string = string[::-1]\n",
    "print(\"the reverse String is: \",reverse_string)\n"
   ]
  },
  {
   "cell_type": "code",
   "execution_count": 2,
   "id": "c4737a98-2c37-4177-8961-1c2096f4bbdf",
   "metadata": {},
   "outputs": [
    {
     "name": "stdout",
     "output_type": "stream",
     "text": [
      "the reverse String is:  dlroW olleH\n",
      "Word_reversed:  World Hello\n"
     ]
    }
   ],
   "source": [
    "string = \"Hello World\"\n",
    "\n",
    "reverse_string = string[::-1]\n",
    "print(\"the reverse String is: \",reverse_string)\n",
    "\n",
    "# Now I will Reverse the words also by keeping the order\n",
    "word_reverse = ' '.join(string.split()[::-1])\n",
    "print(\"Word_reversed: \",word_reverse)"
   ]
  },
  {
   "cell_type": "code",
   "execution_count": null,
   "id": "15ae939c-d531-47c2-b9cd-d05d76b37b62",
   "metadata": {},
   "outputs": [],
   "source": []
  }
 ],
 "metadata": {
  "kernelspec": {
   "display_name": "Python 3 (ipykernel)",
   "language": "python",
   "name": "python3"
  },
  "language_info": {
   "codemirror_mode": {
    "name": "ipython",
    "version": 3
   },
   "file_extension": ".py",
   "mimetype": "text/x-python",
   "name": "python",
   "nbconvert_exporter": "python",
   "pygments_lexer": "ipython3",
   "version": "3.11.7"
  }
 },
 "nbformat": 4,
 "nbformat_minor": 5
}
