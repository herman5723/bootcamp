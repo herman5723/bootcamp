{
 "cells": [
  {
   "cell_type": "code",
   "execution_count": 1,
   "id": "370c58a7-c434-46dc-9319-b4ade66b58fa",
   "metadata": {},
   "outputs": [
    {
     "name": "stdout",
     "output_type": "stream",
     "text": [
      "Random Numbers Are:  [78, 7, 31, 45, 87, 7, 72, 63, 93, 25]\n"
     ]
    }
   ],
   "source": [
    "import random\n",
    "random_number = [random.randint(1,100) for _ in range(10)]\n",
    "print(\"Random Numbers Are: \", random_number)"
   ]
  },
  {
   "cell_type": "code",
   "execution_count": 2,
   "id": "7468b5fb-2eeb-494f-9111-77fb1352d70b",
   "metadata": {},
   "outputs": [
    {
     "name": "stdout",
     "output_type": "stream",
     "text": [
      "Random Numbers Are:  [74, 80, 40, 32, 15, 39, 90, 95, 3, 24]\n",
      "even Numbers from the list of this random numbers are... :  [74, 80, 40, 32, 90, 24]\n"
     ]
    }
   ],
   "source": [
    "import random\n",
    "random_number = [random.randint(1,100) for _ in range(10)]\n",
    "print(\"Random Numbers Are: \", random_number)\n",
    "\n",
    "even_numbers = [num for num in random_number if num % 2 == 0]\n",
    "print(\"even Numbers from the list of this random numbers are... : \", even_numbers)"
   ]
  },
  {
   "cell_type": "code",
   "execution_count": null,
   "id": "3633015d-14aa-430a-b2bc-b6c9c550a729",
   "metadata": {},
   "outputs": [],
   "source": []
  }
 ],
 "metadata": {
  "kernelspec": {
   "display_name": "Python 3 (ipykernel)",
   "language": "python",
   "name": "python3"
  },
  "language_info": {
   "codemirror_mode": {
    "name": "ipython",
    "version": 3
   },
   "file_extension": ".py",
   "mimetype": "text/x-python",
   "name": "python",
   "nbconvert_exporter": "python",
   "pygments_lexer": "ipython3",
   "version": "3.11.7"
  }
 },
 "nbformat": 4,
 "nbformat_minor": 5
}
