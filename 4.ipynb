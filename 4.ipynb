{
 "cells": [
  {
   "cell_type": "code",
   "execution_count": 1,
   "id": "90cf8b4b-f3c1-4383-8b7c-054ee7ac51d9",
   "metadata": {},
   "outputs": [],
   "source": [
    "import pandas as pd"
   ]
  },
  {
   "cell_type": "code",
   "execution_count": 2,
   "id": "dbbe5af7-454d-45d2-9355-4911be54ad58",
   "metadata": {},
   "outputs": [],
   "source": [
    "df = pd.read_csv(r'C:\\Users\\HP\\OneDrive\\Desktop\\student_performance.csv')"
   ]
  },
  {
   "cell_type": "code",
   "execution_count": 3,
   "id": "e03e261f-6093-4dc9-887d-518b7c04c99b",
   "metadata": {},
   "outputs": [],
   "source": [
    "missing_data_rows = df.isnull().sum().sum"
   ]
  },
  {
   "cell_type": "code",
   "execution_count": 4,
   "id": "aba4b62e-b0d5-4107-9e14-0866af29dd5d",
   "metadata": {},
   "outputs": [
    {
     "name": "stdout",
     "output_type": "stream",
     "text": [
      "Number of rows with missing data: <bound method Series.sum of StudentID     0\n",
      "G1            0\n",
      "G2            0\n",
      "G3            0\n",
      "Mjob          0\n",
      "Fjob          0\n",
      "age           0\n",
      "address       0\n",
      "studytime     0\n",
      "failures      0\n",
      "schoolsup     0\n",
      "famsup        0\n",
      "paid          0\n",
      "activities    0\n",
      "nursery       0\n",
      "higher        0\n",
      "internet      0\n",
      "romantic      0\n",
      "dtype: int64>\n"
     ]
    }
   ],
   "source": [
    "print(f\"Number of rows with missing data: {missing_data_rows}\")"
   ]
  },
  {
   "cell_type": "code",
   "execution_count": null,
   "id": "ea4f7c90-b15b-4d88-a74b-afedde8743d3",
   "metadata": {},
   "outputs": [],
   "source": []
  }
 ],
 "metadata": {
  "kernelspec": {
   "display_name": "Python 3 (ipykernel)",
   "language": "python",
   "name": "python3"
  },
  "language_info": {
   "codemirror_mode": {
    "name": "ipython",
    "version": 3
   },
   "file_extension": ".py",
   "mimetype": "text/x-python",
   "name": "python",
   "nbconvert_exporter": "python",
   "pygments_lexer": "ipython3",
   "version": "3.11.7"
  }
 },
 "nbformat": 4,
 "nbformat_minor": 5
}
