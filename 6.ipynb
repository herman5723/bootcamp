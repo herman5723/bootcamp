{
 "cells": [
  {
   "cell_type": "code",
   "execution_count": 1,
   "id": "4a98cea4-0999-44d2-b016-1cdfbc0a459d",
   "metadata": {},
   "outputs": [],
   "source": [
    "import pandas as pd"
   ]
  },
  {
   "cell_type": "code",
   "execution_count": 2,
   "id": "805aff94-0213-46e9-ad32-9d80cf7d9c2b",
   "metadata": {},
   "outputs": [],
   "source": [
    "df = pd.read_csv(r'C:\\Users\\HP\\OneDrive\\Desktop\\ipl.csv')"
   ]
  },
  {
   "cell_type": "code",
   "execution_count": 4,
   "id": "a741370b-9062-41c4-82df-c4b427dddd58",
   "metadata": {},
   "outputs": [],
   "source": [
    "filtered_players = df[df['total_runs'] > 500]"
   ]
  },
  {
   "cell_type": "code",
   "execution_count": 5,
   "id": "93b70b34-bf71-41ad-be9f-a5bf9c1d2a50",
   "metadata": {},
   "outputs": [
    {
     "name": "stdout",
     "output_type": "stream",
     "text": [
      "Empty DataFrame\n",
      "Columns: [match_id, inning, batting_team, bowling_team, over, ball, batter, bowler, non_striker, batsman_runs, extra_runs, total_runs, extras_type, is_wicket, player_dismissed, dismissal_kind, fielder]\n",
      "Index: []\n"
     ]
    }
   ],
   "source": [
    "print(filtered_players)"
   ]
  },
  {
   "cell_type": "code",
   "execution_count": null,
   "id": "1287a5f4-05d2-4149-af6c-376f746ff15a",
   "metadata": {},
   "outputs": [],
   "source": []
  }
 ],
 "metadata": {
  "kernelspec": {
   "display_name": "Python 3 (ipykernel)",
   "language": "python",
   "name": "python3"
  },
  "language_info": {
   "codemirror_mode": {
    "name": "ipython",
    "version": 3
   },
   "file_extension": ".py",
   "mimetype": "text/x-python",
   "name": "python",
   "nbconvert_exporter": "python",
   "pygments_lexer": "ipython3",
   "version": "3.11.7"
  }
 },
 "nbformat": 4,
 "nbformat_minor": 5
}
