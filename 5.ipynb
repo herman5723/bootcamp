{
 "cells": [
  {
   "cell_type": "code",
   "execution_count": 1,
   "id": "3cff0aef-a1e0-421f-b9ac-47f28a81428d",
   "metadata": {},
   "outputs": [],
   "source": [
    "import pandas as pd"
   ]
  },
  {
   "cell_type": "code",
   "execution_count": 2,
   "id": "f0048b8c-e3d1-424a-8a85-3a8a47615361",
   "metadata": {},
   "outputs": [],
   "source": [
    "df = pd.read_csv(r'C:\\Users\\HP\\OneDrive\\Desktop\\ipl.csv')"
   ]
  },
  {
   "cell_type": "code",
   "execution_count": 4,
   "id": "4fcd2b8e-01ca-4c96-a882-d0630123a3d4",
   "metadata": {},
   "outputs": [],
   "source": [
    "top_10_players = df.sort_values(by='total_runs', ascending=False).head(10)"
   ]
  },
  {
   "cell_type": "code",
   "execution_count": 7,
   "id": "c208aa03-8893-4cd8-95bc-607078445e21",
   "metadata": {},
   "outputs": [],
   "source": [
    "mean_runs = top_10_players['total_runs'].mean()"
   ]
  },
  {
   "cell_type": "code",
   "execution_count": 9,
   "id": "67510ffe-55da-40ec-a3a0-92089706bd88",
   "metadata": {},
   "outputs": [],
   "source": [
    "from statistics import mean, mode\n"
   ]
  },
  {
   "cell_type": "code",
   "execution_count": 10,
   "id": "35dd0a85-8c75-4ad7-9970-a37972488a11",
   "metadata": {},
   "outputs": [],
   "source": [
    "player_runs = df.groupby(\"batter\")[\"batsman_runs\"].sum()\n"
   ]
  },
  {
   "cell_type": "code",
   "execution_count": 11,
   "id": "a3b88a14-5caa-4b6f-9b4a-7813a4b346d4",
   "metadata": {},
   "outputs": [],
   "source": [
    "top_10_players = player_runs.nlargest(10)"
   ]
  },
  {
   "cell_type": "code",
   "execution_count": 12,
   "id": "13df496d-cb16-44ea-80d4-76cb8503c4fa",
   "metadata": {},
   "outputs": [],
   "source": [
    "mean_runs = mean(top_10_players)\n",
    "mode_runs = mode(top_10_players)"
   ]
  },
  {
   "cell_type": "code",
   "execution_count": 13,
   "id": "5fe7fc3f-d098-4188-b805-d114dd9b9902",
   "metadata": {},
   "outputs": [
    {
     "data": {
      "text/plain": [
       "(167.1, 189)"
      ]
     },
     "execution_count": 13,
     "metadata": {},
     "output_type": "execute_result"
    }
   ],
   "source": [
    "mean_runs, mode_runs"
   ]
  },
  {
   "cell_type": "code",
   "execution_count": null,
   "id": "7180c127-64d6-461e-b446-f77ce999909e",
   "metadata": {},
   "outputs": [],
   "source": []
  }
 ],
 "metadata": {
  "kernelspec": {
   "display_name": "Python 3 (ipykernel)",
   "language": "python",
   "name": "python3"
  },
  "language_info": {
   "codemirror_mode": {
    "name": "ipython",
    "version": 3
   },
   "file_extension": ".py",
   "mimetype": "text/x-python",
   "name": "python",
   "nbconvert_exporter": "python",
   "pygments_lexer": "ipython3",
   "version": "3.11.7"
  }
 },
 "nbformat": 4,
 "nbformat_minor": 5
}
